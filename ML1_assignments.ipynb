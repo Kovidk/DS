{
 "cells": [
  {
   "cell_type": "markdown",
   "id": "5530e249",
   "metadata": {},
   "source": [
    "1) Explain the following with an example?\n",
    "    1. Artificial Intelligence\n",
    "    2. Machine Learning\n",
    "    3. Deep Learning"
   ]
  },
  {
   "cell_type": "markdown",
   "id": "922cedab",
   "metadata": {},
   "source": [
    "1. Artificial Intelligence - Artificial Intelligence (AI) is the field of computer science and engineering that \n",
    "   focuses on creating intelligent machines that can perform tasks that would typically require human intelligence \n",
    "   to accomplish.\n",
    "2. Machine Learning - Machine learning is a subset of artificial intelligence that involves teaching machines to learn from data, without being explicitly programmed.\n",
    "3. Deep Learning - Deep learning is a subset of machine learning that involves training artificial neural networks to learn from data, identify patterns, and make decisions based on that data. Artificial neural networks are modeled after the structure of the human brain, with layers of interconnected nodes that process and analyze data."
   ]
  },
  {
   "cell_type": "markdown",
   "id": "3d1f66f1",
   "metadata": {},
   "source": [
    "2) What is supervised learning ? List some examples of Supervised Learning."
   ]
  },
  {
   "cell_type": "markdown",
   "id": "f7025332",
   "metadata": {},
   "source": [
    "Supervised learning is a type of machine learning where the algorithm learns to make predictions or decisions based on labeled training data, which consists of input features and corresponding output values. Examples include image classification, spam filtering, credit scoring, stock price prediction, and medical diagnosis."
   ]
  },
  {
   "cell_type": "markdown",
   "id": "45147d39",
   "metadata": {},
   "source": [
    "3)  What is unsupervised learning ? List some examples of unsupervised Learning."
   ]
  },
  {
   "cell_type": "markdown",
   "id": "03b233ec",
   "metadata": {},
   "source": [
    "Unsupervised learning is a type of machine learning where the algorithm learns to find patterns and structure in unlabeled data without predefined output values. Examples include clustering, dimensionality reduction, anomaly detection, and recommendation systems"
   ]
  },
  {
   "cell_type": "markdown",
   "id": "b6c4aa37",
   "metadata": {},
   "source": [
    "4) What is the difference between AI, ML, DL, and DS?"
   ]
  },
  {
   "cell_type": "markdown",
   "id": "e08c029d",
   "metadata": {},
   "source": [
    "AI (Artificial Intelligence), ML (Machine Learning), DL (Deep Learning), and DS (Data Science) are all related fields in computer science, but they have distinct differences:\n",
    "\n",
    "AI - is the broadest term that refers to the development of intelligent machines that can perform tasks that normally require human intelligence, such as visual perception, speech recognition, decision making, and language translation.\n",
    "\n",
    "ML - is a subfield of AI that involves developing algorithms that can automatically learn from data, identify patterns, and make predictions or decisions based on that data.\n",
    "\n",
    "DL - is a subset of ML that involves training artificial neural networks to learn from data, identify patterns, and make decisions based on that data. DL is particularly effective for tasks that require a high level of accuracy, such as image and speech recognition, natural language processing, and decision making in complex systems.\n",
    "\n",
    "DS - is a broader field that involves extracting knowledge and insights from data using various techniques such as statistics, data visualization, and machine learning. Data science involves collecting, cleaning, analyzing, and interpreting large and complex datasets to extract valuable insights and inform decision making.\n",
    "\n",
    "AI refers to the development of intelligent machines. ML involves developing algorithms that can automatically learn from data. DL is a subset of ML that uses artificial neural networks. DS involves extracting knowledge and insights from data.\n",
    "Overall, AI is the umbrella term that encompasses all of these fields, while ML, DL, and DS are more specialized areas that focus on specific aspects of AI development and application."
   ]
  },
  {
   "cell_type": "markdown",
   "id": "efe42651",
   "metadata": {},
   "source": [
    "5) What are the main difference between supervised, unsupervised and semi supervised learning ?"
   ]
  },
  {
   "cell_type": "markdown",
   "id": "0a36139f",
   "metadata": {},
   "source": [
    "Supervised learning: The algorithm learns from labeled data, where both the input features and output values are provided. The goal is to learn a model that can predict the correct output value given a new input feature. An example is a spam filter that learns from a labeled dataset of spam and non-spam emails.\n",
    "\n",
    "Unsupervised learning: The algorithm learns from unlabeled data, where only the input features are provided. The goal is often to find hidden patterns or groupings in the data. An example is a clustering algorithm that groups similar customers together based on their purchase histories.\n",
    "\n",
    "Semi-supervised learning: The algorithm learns from a combination of labeled and unlabeled data. The goal is to improve the accuracy of the model by leveraging both types of data. An example is a speech recognition system that uses a small amount of labeled speech data and a large amount of unlabeled speech data to improve its accuracy."
   ]
  },
  {
   "cell_type": "markdown",
   "id": "5b5ce8a4",
   "metadata": {},
   "source": [
    "6) What is train, test and validation split? Explain the importance of each term."
   ]
  },
  {
   "cell_type": "markdown",
   "id": "44ac28cd",
   "metadata": {},
   "source": [
    "Train-test-validation split is a way to train and evaluate machine learning models. The data is split into three parts:\n",
    "\n",
    "Training set: Used to teach the model how to make predictions.\n",
    "\n",
    "Validation set: Used to make sure the model is not too complex (overfitting) or too simple (underfitting).\n",
    "\n",
    "Test set: Used to see how well the model performs on new, unseen data.\n",
    "\n",
    "The importance of using these three sets is to prevent the model from memorizing the training data and to ensure that it can make accurate predictions on new data. By checking the model's performance on a separate validation set, we can adjust its complexity to improve its predictions. Finally, the test set gives us a realistic assessment of the model's accuracy on new data."
   ]
  },
  {
   "cell_type": "markdown",
   "id": "21ab6abc",
   "metadata": {},
   "source": [
    "7) How can unsupervised learning be used in anomally detection?"
   ]
  },
  {
   "cell_type": "markdown",
   "id": "62a1bde1",
   "metadata": {},
   "source": [
    "Anomaly detection is about finding unusual patterns in data that may indicate a problem or issue.\n",
    "\n",
    "Unsupervised learning is a type of machine learning that finds patterns and structures in data by itself, without labeled data. \n",
    "\n",
    "To use unsupervised learning for anomaly detection, you need to gather a large dataset of normal behavior.\n",
    "\n",
    "Use unsupervised learning algorithms, like clustering or density estimation, to train a model on the normal data.\n",
    "\n",
    "The algorithm learns patterns and structures in the data that represent normal behavior.\n",
    "\n",
    "The trained model can then identify anomalies in new data that deviate significantly from the learned patterns.\n",
    "\n",
    "Investigate the anomalies to determine whether they are truly anomalous or whether they represent a new normal pattern."
   ]
  },
  {
   "cell_type": "markdown",
   "id": "28e4dd4c",
   "metadata": {},
   "source": [
    "8) List down some commonly used supervised learning algorithms and unsupervised learning algorithms?"
   ]
  },
  {
   "cell_type": "markdown",
   "id": "bff9e4ed",
   "metadata": {},
   "source": [
    "Here are some commonly used supervised learning algorithms and unsupervised learning algorithms:\n",
    "\n",
    "Supervised Learning Algorithms:\n",
    "\n",
    "Linear Regression,\n",
    "Logistic Regression,\n",
    "Decision Trees,\n",
    "Random Forests,\n",
    "Support Vector Machines (SVM),\n",
    "Naive Bayes,\n",
    "K-Nearest Neighbors (KNN),\n",
    "Neural Networks (Deep Learning),\n",
    "\n",
    "Unsupervised Learning Algorithms:\n",
    "\n",
    "K-Means Clustering,\n",
    "Hierarchical Clustering,\n",
    "DBSCAN (Density-Based Spatial Clustering of Applications with Noise),\n",
    "Gaussian Mixture Models (GMM),\n",
    "Principal Component Analysis (PCA),\n",
    "t-SNE (t-Distributed Stochastic Neighbor Embedding),\n",
    "Association Rule Mining (Apriori Algorithm),\n",
    "Self-Organizing Maps (SOM),\n",
    "These are just a few examples, and there are many more algorithms available for both supervised and unsupervised learning. The choice of algorithm depends on the specific problem, data characteristics, and desired outcomes."
   ]
  }
 ],
 "metadata": {
  "kernelspec": {
   "display_name": "Python 3 (ipykernel)",
   "language": "python",
   "name": "python3"
  },
  "language_info": {
   "codemirror_mode": {
    "name": "ipython",
    "version": 3
   },
   "file_extension": ".py",
   "mimetype": "text/x-python",
   "name": "python",
   "nbconvert_exporter": "python",
   "pygments_lexer": "ipython3",
   "version": "3.9.13"
  }
 },
 "nbformat": 4,
 "nbformat_minor": 5
}
